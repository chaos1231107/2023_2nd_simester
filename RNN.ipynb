{
  "nbformat": 4,
  "nbformat_minor": 0,
  "metadata": {
    "colab": {
      "provenance": [],
      "gpuType": "T4",
      "authorship_tag": "ABX9TyMNPtM7x2lyDC7Z0GaWMKXo",
      "include_colab_link": true
    },
    "kernelspec": {
      "name": "python3",
      "display_name": "Python 3"
    },
    "language_info": {
      "name": "python"
    },
    "accelerator": "GPU"
  },
  "cells": [
    {
      "cell_type": "markdown",
      "metadata": {
        "id": "view-in-github",
        "colab_type": "text"
      },
      "source": [
        "<a href=\"https://colab.research.google.com/github/chaos1231107/2023_2nd_simester/blob/main/RNN.ipynb\" target=\"_parent\"><img src=\"https://colab.research.google.com/assets/colab-badge.svg\" alt=\"Open In Colab\"/></a>"
      ]
    },
    {
      "cell_type": "code",
      "execution_count": null,
      "metadata": {
        "colab": {
          "base_uri": "https://localhost:8080/"
        },
        "id": "ma5YdeS6uusP",
        "outputId": "83ed7961-6ef8-4a63-b531-97791da60bb5"
      },
      "outputs": [
        {
          "output_type": "stream",
          "name": "stdout",
          "text": [
            "Downloading data from https://storage.googleapis.com/tensorflow/tf-keras-datasets/imdb.npz\n",
            "17464789/17464789 [==============================] - 0s 0us/step\n"
          ]
        }
      ],
      "source": [
        "from tensorflow.keras.datasets import imdb\n",
        "(train_input, train_target), (test_input, test_target) =\\\n",
        "    imdb.load_data(num_words=300)"
      ]
    },
    {
      "cell_type": "code",
      "source": [
        "print(train_target[:20])"
      ],
      "metadata": {
        "colab": {
          "base_uri": "https://localhost:8080/"
        },
        "id": "1IJIpx2Tvw40",
        "outputId": "60eb523f-3834-4046-d291-e13c22a8aebe"
      },
      "execution_count": null,
      "outputs": [
        {
          "output_type": "stream",
          "name": "stdout",
          "text": [
            "[1 0 0 1 0 0 1 0 1 0 1 0 0 0 0 0 1 1 0 1]\n"
          ]
        }
      ]
    },
    {
      "cell_type": "code",
      "source": [
        "from sklearn.model_selection import train_test_split\n",
        "train_input, val_input, train_target, val_target = train_test_split(\n",
        "    train_input, train_target, test_size=0.2, random_state=42\n",
        ")"
      ],
      "metadata": {
        "id": "IK0BSvf9wkD3"
      },
      "execution_count": null,
      "outputs": []
    },
    {
      "cell_type": "code",
      "source": [
        "import numpy as np\n",
        "lenghts = np.array([len(x) for x in train_input])\n",
        "print(np.mean(lengths), np.median(lengths))"
      ],
      "metadata": {
        "id": "hiKGyxo-xvey",
        "colab": {
          "base_uri": "https://localhost:8080/"
        },
        "outputId": "73dd8396-b1f4-45c0-e843-3a0c7d3e6b2a"
      },
      "execution_count": null,
      "outputs": [
        {
          "output_type": "stream",
          "name": "stdout",
          "text": [
            "239.00925 178.0\n"
          ]
        }
      ]
    },
    {
      "cell_type": "code",
      "source": [
        "import matplotlib.pyplot as plt\n",
        "plt.hist(lenghts)\n",
        "plt.xlabel('length')\n",
        "plt.ylabel('frequency')\n",
        "plt.show()"
      ],
      "metadata": {
        "colab": {
          "base_uri": "https://localhost:8080/",
          "height": 449
        },
        "id": "5mf_6HIxMyg2",
        "outputId": "5987651d-ac2a-4272-8e72-f7eb1ee4d205"
      },
      "execution_count": null,
      "outputs": [
        {
          "output_type": "display_data",
          "data": {
            "text/plain": [
              "<Figure size 640x480 with 1 Axes>"
            ],
            "image/png": "[encoded data removed]"
          },
          "metadata": {}
        }
      ]
    },
    {
      "cell_type": "code",
      "source": [
        "from tensorflow.keras.preprocessing.sequence import pad_sequences\n",
        "train_seq = pad_sequences(train_input, maxlen=100)"
      ],
      "metadata": {
        "id": "6Rv11msmNMV0"
      },
      "execution_count": null,
      "outputs": []
    },
    {
      "cell_type": "code",
      "source": [
        "print(train_seq.shape)"
      ],
      "metadata": {
        "colab": {
          "base_uri": "https://localhost:8080/"
        },
        "id": "aKll_H-0NqkI",
        "outputId": "97dc481c-7e57-4265-e93e-2571be5308f3"
      },
      "execution_count": null,
      "outputs": [
        {
          "output_type": "stream",
          "name": "stdout",
          "text": [
            "(20000, 100)\n"
          ]
        }
      ]
    },
    {
      "cell_type": "code",
      "source": [
        "print(train_seq[0])"
      ],
      "metadata": {
        "colab": {
          "base_uri": "https://localhost:8080/"
        },
        "id": "f5hZ9DRLNvE6",
        "outputId": "11862380-8157-4165-bbb5-9ff35f1e8e53"
      },
      "execution_count": null,
      "outputs": [
        {
          "output_type": "stream",
          "name": "stdout",
          "text": [
            "[ 10   4  20   9   2   2   2   5  45   6   2   2  33 269   8   2 142   2\n",
            "   5   2  17  73  17 204   5   2  19  55   2   2  92  66 104  14  20  93\n",
            "  76   2 151  33   4  58  12 188   2 151  12 215  69 224 142  73 237   6\n",
            "   2   7   2   2 188   2 103  14  31  10  10   2   7   2   5   2  80  91\n",
            "   2  30   2  34  14  20 151  50  26 131  49   2  84  46  50  37  80  79\n",
            "   6   2  46   7  14  20  10  10   2 158]\n"
          ]
        }
      ]
    },
    {
      "cell_type": "code",
      "source": [
        "print(train_input[0][-10:])"
      ],
      "metadata": {
        "colab": {
          "base_uri": "https://localhost:8080/"
        },
        "id": "523jertHN0vi",
        "outputId": "7c819024-1440-4089-b9c7-2bf4b756bf0b"
      },
      "execution_count": null,
      "outputs": [
        {
          "output_type": "stream",
          "name": "stdout",
          "text": [
            "[6, 2, 46, 7, 14, 20, 10, 10, 2, 158]\n"
          ]
        }
      ]
    },
    {
      "cell_type": "code",
      "source": [
        "print(train_seq[5])"
      ],
      "metadata": {
        "colab": {
          "base_uri": "https://localhost:8080/"
        },
        "id": "tBAJelIXN6Er",
        "outputId": "38cf7541-aee7-4875-c775-b3708342a954"
      },
      "execution_count": null,
      "outputs": [
        {
          "output_type": "stream",
          "name": "stdout",
          "text": [
            "[  0   0   0   0   1   2 195  19  49   2   2 190   4   2   2   2 183  10\n",
            "  10  13  82  79   4   2  36  71 269   8   2  25  19  49   7   4   2   2\n",
            "   2   2   2  10  10  48  25  40   2  11   2   2  40   2   2   5   4   2\n",
            "   2  95  14 238  56 129   2  10  10  21   2  94   2   2   2   2  11 190\n",
            "  24   2   2   7  94 205   2  10  10  87   2  34  49   2   7   2   2   2\n",
            "   2   2 290   2  46  48  64  18   4   2]\n"
          ]
        }
      ]
    },
    {
      "cell_type": "code",
      "source": [
        "val_seq = pad_sequences(val_input, maxlen=100)"
      ],
      "metadata": {
        "id": "LWodkZ7dOA0T"
      },
      "execution_count": null,
      "outputs": []
    },
    {
      "cell_type": "code",
      "source": [
        "from tensorflow import keras\n",
        "model = keras.Sequential()\n",
        "model.add(keras.layers.SimpleRNN(8, input_shape=(100, 300)))\n",
        "model.add(keras.layers.Dense(1, activation='sigmoid'))"
      ],
      "metadata": {
        "id": "yuzQwwVbOK1R"
      },
      "execution_count": null,
      "outputs": []
    },
    {
      "cell_type": "code",
      "source": [
        "train_oh = keras.utils.to_categorical(train_seq)"
      ],
      "metadata": {
        "id": "iCyMtfzBOvn6"
      },
      "execution_count": null,
      "outputs": []
    },
    {
      "cell_type": "code",
      "source": [
        "print(train_oh.shape)"
      ],
      "metadata": {
        "colab": {
          "base_uri": "https://localhost:8080/"
        },
        "id": "cqVYNmADO147",
        "outputId": "07461de7-5513-4863-cc7e-d4e5c4ed1c01"
      },
      "execution_count": null,
      "outputs": [
        {
          "output_type": "stream",
          "name": "stdout",
          "text": [
            "(20000, 100, 300)\n"
          ]
        }
      ]
    },
    {
      "cell_type": "code",
      "source": [
        "print(train_oh[0][0][:12])"
      ],
      "metadata": {
        "colab": {
          "base_uri": "https://localhost:8080/"
        },
        "id": "cMc_2v4oPJhu",
        "outputId": "af1a64de-8bdb-42c7-d1bd-13aa47203f2e"
      },
      "execution_count": null,
      "outputs": [
        {
          "output_type": "stream",
          "name": "stdout",
          "text": [
            "[0. 0. 0. 0. 0. 0. 0. 0. 0. 0. 1. 0.]\n"
          ]
        }
      ]
    },
    {
      "cell_type": "code",
      "source": [
        "print(np.sum(train_oh[0][0]))"
      ],
      "metadata": {
        "colab": {
          "base_uri": "https://localhost:8080/"
        },
        "id": "1d8id3ozPPJF",
        "outputId": "6b17a027-9761-43b9-d130-914b34d28c68"
      },
      "execution_count": null,
      "outputs": [
        {
          "output_type": "stream",
          "name": "stdout",
          "text": [
            "1.0\n"
          ]
        }
      ]
    },
    {
      "cell_type": "code",
      "source": [
        "val_oh = keras.utils.to_categorical(val_seq)"
      ],
      "metadata": {
        "id": "X3sOd4nSPUJW"
      },
      "execution_count": null,
      "outputs": []
    },
    {
      "cell_type": "code",
      "source": [
        "model.summary()"
      ],
      "metadata": {
        "colab": {
          "base_uri": "https://localhost:8080/"
        },
        "id": "GyDo-smAPbZl",
        "outputId": "edff2ef5-6aea-4886-c4eb-f367e76662f8"
      },
      "execution_count": null,
      "outputs": [
        {
          "output_type": "stream",
          "name": "stdout",
          "text": [
            "Model: \"sequential_2\"\n",
            "_________________________________________________________________\n",
            " Layer (type)                Output Shape              Param #   \n",
            "=================================================================\n",
            " simple_rnn_3 (SimpleRNN)    (None, 8)                 2472      \n",
            "                                                                 \n",
            " dense_1 (Dense)             (None, 1)                 9         \n",
            "                                                                 \n",
            "=================================================================\n",
            "Total params: 2481 (9.69 KB)\n",
            "Trainable params: 2481 (9.69 KB)\n",
            "Non-trainable params: 0 (0.00 Byte)\n",
            "_________________________________________________________________\n"
          ]
        }
      ]
    },
    {
      "cell_type": "code",
      "source": [
        "rmsprop = keras.optimizers.RMSprop(learning_rate=1e-4)\n",
        "model.compile(optimizer=rmsprop, loss='binary_crossentropy',\n",
        "              metrics=['accuracy'])\n",
        "checkpoint_cb = keras.callbacks.ModelCheckpoint('best-simplernn-model.h5',\n",
        "                                               save_best_only=True)\n",
        "early_stopping_cb = keras.callbacks.EarlyStopping(patience=3,\n",
        "                                                  restore_best_weights=True)\n",
        "\n",
        "history = model.fit(train_oh, train_target, epochs=100, batch_size=64,\n",
        "                    validation_data=(val_oh, val_target),\n",
        "                    callbacks=[checkpoint_cb, early_stopping_cb])"
      ],
      "metadata": {
        "colab": {
          "base_uri": "https://localhost:8080/"
        },
        "id": "oBLG7uhwPgA8",
        "outputId": "f1362a63-0f5b-4142-e861-4f83e808c43d"
      },
      "execution_count": null,
      "outputs": [
        {
          "output_type": "stream",
          "name": "stdout",
          "text": [
            "Epoch 1/100\n",
            "313/313 [==============================] - 31s 81ms/step - loss: 0.6963 - accuracy: 0.5157 - val_loss: 0.6958 - val_accuracy: 0.5052\n",
            "Epoch 2/100\n",
            "  2/313 [..............................] - ETA: 20s - loss: 0.6851 - accuracy: 0.5625"
          ]
        },
        {
          "output_type": "stream",
          "name": "stderr",
          "text": [
            "/usr/local/lib/python3.10/dist-packages/keras/src/engine/training.py:3000: UserWarning: You are saving your model as an HDF5 file via `model.save()`. This file format is considered legacy. We recommend using instead the native Keras format, e.g. `model.save('my_model.keras')`.\n",
            "  saving_api.save_model(\n"
          ]
        },
        {
          "output_type": "stream",
          "name": "stdout",
          "text": [
            "313/313 [==============================] - 24s 77ms/step - loss: 0.6929 - accuracy: 0.5231 - val_loss: 0.6932 - val_accuracy: 0.5158\n",
            "Epoch 3/100\n",
            "313/313 [==============================] - 26s 82ms/step - loss: 0.6902 - accuracy: 0.5318 - val_loss: 0.6909 - val_accuracy: 0.5256\n",
            "Epoch 4/100\n",
            "313/313 [==============================] - 24s 76ms/step - loss: 0.6878 - accuracy: 0.5421 - val_loss: 0.6886 - val_accuracy: 0.5338\n",
            "Epoch 5/100\n",
            "313/313 [==============================] - 24s 75ms/step - loss: 0.6853 - accuracy: 0.5522 - val_loss: 0.6861 - val_accuracy: 0.5466\n",
            "Epoch 6/100\n",
            "313/313 [==============================] - 23s 73ms/step - loss: 0.6824 - accuracy: 0.5641 - val_loss: 0.6827 - val_accuracy: 0.5596\n",
            "Epoch 7/100\n",
            "313/313 [==============================] - 24s 75ms/step - loss: 0.6782 - accuracy: 0.5742 - val_loss: 0.6769 - val_accuracy: 0.5730\n",
            "Epoch 8/100\n",
            "313/313 [==============================] - 24s 76ms/step - loss: 0.6696 - accuracy: 0.5915 - val_loss: 0.6605 - val_accuracy: 0.6122\n",
            "Epoch 9/100\n",
            "313/313 [==============================] - 24s 78ms/step - loss: 0.6334 - accuracy: 0.6457 - val_loss: 0.6177 - val_accuracy: 0.6598\n",
            "Epoch 10/100\n",
            "313/313 [==============================] - 24s 77ms/step - loss: 0.6088 - accuracy: 0.6734 - val_loss: 0.6019 - val_accuracy: 0.6790\n",
            "Epoch 11/100\n",
            "313/313 [==============================] - 27s 87ms/step - loss: 0.5951 - accuracy: 0.6871 - val_loss: 0.5911 - val_accuracy: 0.6922\n",
            "Epoch 12/100\n",
            "313/313 [==============================] - 45s 144ms/step - loss: 0.5836 - accuracy: 0.6989 - val_loss: 0.5820 - val_accuracy: 0.6996\n",
            "Epoch 13/100\n",
            "313/313 [==============================] - 40s 128ms/step - loss: 0.5733 - accuracy: 0.7093 - val_loss: 0.5745 - val_accuracy: 0.7078\n",
            "Epoch 14/100\n",
            "313/313 [==============================] - 23s 74ms/step - loss: 0.5646 - accuracy: 0.7185 - val_loss: 0.5674 - val_accuracy: 0.7146\n",
            "Epoch 15/100\n",
            "313/313 [==============================] - 24s 76ms/step - loss: 0.5566 - accuracy: 0.7254 - val_loss: 0.5591 - val_accuracy: 0.7212\n",
            "Epoch 16/100\n",
            "313/313 [==============================] - 23s 74ms/step - loss: 0.5500 - accuracy: 0.7305 - val_loss: 0.5588 - val_accuracy: 0.7196\n",
            "Epoch 17/100\n",
            "313/313 [==============================] - 23s 74ms/step - loss: 0.5437 - accuracy: 0.7330 - val_loss: 0.5518 - val_accuracy: 0.7242\n",
            "Epoch 18/100\n",
            "313/313 [==============================] - 24s 77ms/step - loss: 0.5390 - accuracy: 0.7370 - val_loss: 0.5449 - val_accuracy: 0.7272\n",
            "Epoch 19/100\n",
            "313/313 [==============================] - 24s 76ms/step - loss: 0.5335 - accuracy: 0.7420 - val_loss: 0.5489 - val_accuracy: 0.7216\n",
            "Epoch 20/100\n",
            "313/313 [==============================] - 24s 76ms/step - loss: 0.5293 - accuracy: 0.7447 - val_loss: 0.5362 - val_accuracy: 0.7330\n",
            "Epoch 21/100\n",
            "313/313 [==============================] - 24s 75ms/step - loss: 0.5255 - accuracy: 0.7472 - val_loss: 0.5323 - val_accuracy: 0.7366\n",
            "Epoch 22/100\n",
            "313/313 [==============================] - 24s 77ms/step - loss: 0.5219 - accuracy: 0.7490 - val_loss: 0.5289 - val_accuracy: 0.7348\n",
            "Epoch 23/100\n",
            "313/313 [==============================] - 24s 77ms/step - loss: 0.5185 - accuracy: 0.7535 - val_loss: 0.5270 - val_accuracy: 0.7390\n",
            "Epoch 24/100\n",
            "313/313 [==============================] - 24s 78ms/step - loss: 0.5159 - accuracy: 0.7538 - val_loss: 0.5266 - val_accuracy: 0.7406\n",
            "Epoch 25/100\n",
            "313/313 [==============================] - 24s 75ms/step - loss: 0.5135 - accuracy: 0.7559 - val_loss: 0.5222 - val_accuracy: 0.7434\n",
            "Epoch 26/100\n",
            "313/313 [==============================] - 23s 73ms/step - loss: 0.5114 - accuracy: 0.7577 - val_loss: 0.5202 - val_accuracy: 0.7442\n",
            "Epoch 27/100\n",
            "313/313 [==============================] - 24s 75ms/step - loss: 0.5093 - accuracy: 0.7577 - val_loss: 0.5206 - val_accuracy: 0.7422\n",
            "Epoch 28/100\n",
            "313/313 [==============================] - 24s 76ms/step - loss: 0.5073 - accuracy: 0.7611 - val_loss: 0.5170 - val_accuracy: 0.7450\n",
            "Epoch 29/100\n",
            "313/313 [==============================] - 24s 76ms/step - loss: 0.5057 - accuracy: 0.7610 - val_loss: 0.5158 - val_accuracy: 0.7452\n",
            "Epoch 30/100\n",
            "313/313 [==============================] - 24s 76ms/step - loss: 0.5040 - accuracy: 0.7636 - val_loss: 0.5142 - val_accuracy: 0.7470\n",
            "Epoch 31/100\n",
            "313/313 [==============================] - 23s 75ms/step - loss: 0.5026 - accuracy: 0.7635 - val_loss: 0.5148 - val_accuracy: 0.7480\n",
            "Epoch 32/100\n",
            "313/313 [==============================] - 23s 75ms/step - loss: 0.5012 - accuracy: 0.7642 - val_loss: 0.5134 - val_accuracy: 0.7484\n",
            "Epoch 33/100\n",
            "313/313 [==============================] - 24s 76ms/step - loss: 0.4999 - accuracy: 0.7656 - val_loss: 0.5123 - val_accuracy: 0.7502\n",
            "Epoch 34/100\n",
            "313/313 [==============================] - 23s 73ms/step - loss: 0.4987 - accuracy: 0.7657 - val_loss: 0.5112 - val_accuracy: 0.7486\n",
            "Epoch 35/100\n",
            "313/313 [==============================] - 23s 75ms/step - loss: 0.4973 - accuracy: 0.7667 - val_loss: 0.5142 - val_accuracy: 0.7478\n",
            "Epoch 36/100\n",
            "313/313 [==============================] - 24s 77ms/step - loss: 0.4959 - accuracy: 0.7653 - val_loss: 0.5159 - val_accuracy: 0.7452\n",
            "Epoch 37/100\n",
            "313/313 [==============================] - 24s 76ms/step - loss: 0.4961 - accuracy: 0.7671 - val_loss: 0.5133 - val_accuracy: 0.7468\n"
          ]
        }
      ]
    },
    {
      "cell_type": "code",
      "source": [
        "plt.plot(history.history['loss'])\n",
        "plt.plot(history.history['val_loss'])\n",
        "plt.xlabel('epoch')\n",
        "plt.ylabel('loss')\n",
        "plt.legend(['train', 'val'])\n",
        "plt.show()"
      ],
      "metadata": {
        "colab": {
          "base_uri": "https://localhost:8080/",
          "height": 449
        },
        "id": "mi3RfNEfSJzB",
        "outputId": "84fad28e-a61a-4b11-e4f1-e1614a8fb43c"
      },
      "execution_count": null,
      "outputs": [
        {
          "output_type": "display_data",
          "data": {
            "text/plain": [
              "<Figure size 640x480 with 1 Axes>"
            ],
            "image/png": "[encoded data removed]"
          },
          "metadata": {}
        }
      ]
    },
    {
      "cell_type": "code",
      "source": [
        "model2 = keras.Sequential()\n",
        "model2.add(keras.layers.Embedding(300, 16, input_length=100))\n",
        "model2.add(keras.layers.SimpleRNN(8))\n",
        "model2.add(keras.layers.Dense(1, activation='sigmoid'))"
      ],
      "metadata": {
        "id": "PO2H4GgJSOFU"
      },
      "execution_count": 58,
      "outputs": []
    },
    {
      "cell_type": "code",
      "source": [
        "model2.summary()"
      ],
      "metadata": {
        "colab": {
          "base_uri": "https://localhost:8080/"
        },
        "id": "PkttYEEzahLT",
        "outputId": "dc5c71c6-9ee9-41a2-ae19-7cfe033bc280"
      },
      "execution_count": 60,
      "outputs": [
        {
          "output_type": "stream",
          "name": "stdout",
          "text": [
            "Model: \"sequential_6\"\n",
            "_________________________________________________________________\n",
            " Layer (type)                Output Shape              Param #   \n",
            "=================================================================\n",
            " embedding_2 (Embedding)     (None, 100, 16)           4800      \n",
            "                                                                 \n",
            " simple_rnn_6 (SimpleRNN)    (None, 8)                 200       \n",
            "                                                                 \n",
            " dense_3 (Dense)             (None, 1)                 9         \n",
            "                                                                 \n",
            "=================================================================\n",
            "Total params: 5009 (19.57 KB)\n",
            "Trainable params: 5009 (19.57 KB)\n",
            "Non-trainable params: 0 (0.00 Byte)\n",
            "_________________________________________________________________\n"
          ]
        }
      ]
    },
    {
      "cell_type": "code",
      "source": [
        "rmsprop = keras.optimizers.RMSprop(learning_rate=1e-4)\n",
        "model2.compile(optimizer=rmsprop, loss='binary_crossentropy',\n",
        "               metrics=['accuracy'])\n",
        "checkpoint_cb = keras.callbacks.ModelCheckpoint('best-embedding-model.h5',\n",
        "                                                save_best_only=True)\n",
        "early_stopping = model2.fit(train_seq, train_target, epochs=100, batch_size=64,\n",
        "                            validation_data=(val_seq, val_target),\n",
        "                            callbacks=[checkpoint_cb, early_stopping_cb])"
      ],
      "metadata": {
        "colab": {
          "base_uri": "https://localhost:8080/"
        },
        "id": "em6I-QChalVn",
        "outputId": "0967d674-4b35-4965-fe10-80ffa7d2a2ab"
      },
      "execution_count": null,
      "outputs": [
        {
          "output_type": "stream",
          "name": "stdout",
          "text": [
            "Epoch 1/100\n",
            "313/313 [==============================] - 48s 150ms/step - loss: 0.4633 - accuracy: 0.7943 - val_loss: 0.5258 - val_accuracy: 0.7454\n",
            "Epoch 2/100\n",
            " 56/313 [====>.........................] - ETA: 23s - loss: 0.4607 - accuracy: 0.7952"
          ]
        }
      ]
    }
  ]
}