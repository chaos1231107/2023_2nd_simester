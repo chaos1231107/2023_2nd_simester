{
  "nbformat": 4,
  "nbformat_minor": 0,
  "metadata": {
    "colab": {
      "provenance": [],
      "gpuType": "T4",
      "authorship_tag": "ABX9TyPiysiU/1Ma+oTwVc+STXV8",
      "include_colab_link": true
    },
    "kernelspec": {
      "name": "python3",
      "display_name": "Python 3"
    },
    "language_info": {
      "name": "python"
    },
    "accelerator": "GPU"
  },
  "cells": [
    {
      "cell_type": "markdown",
      "metadata": {
        "id": "view-in-github",
        "colab_type": "text"
      },
      "source": [
        "<a href=\"https://colab.research.google.com/github/chaos1231107/2023_2nd_simester/blob/main/minibatch_GPU.ipynb\" target=\"_parent\"><img src=\"https://colab.research.google.com/assets/colab-badge.svg\" alt=\"Open In Colab\"/></a>"
      ]
    },
    {
      "cell_type": "code",
      "execution_count": null,
      "metadata": {
        "id": "RUMywVqUJ9Rl"
      },
      "outputs": [],
      "source": [
        "import torch\n",
        "import torch.nn as nn\n",
        "import torch.optim as optim\n",
        "import torch.nn.functional as F\n",
        "from torch.utils.data import Dataset, DataLoader"
      ]
    },
    {
      "cell_type": "code",
      "source": [
        "class Multivariable(nn.Module):\n",
        "    def __init__(self):\n",
        "        super().__init__()\n",
        "        self.linear = nn.Linear(3, 1)\n",
        "\n",
        "    def forward(self, x):\n",
        "        return self.linear(x)\n",
        "\n",
        "class CustomDataset(Dataset):\n",
        "    def __init__(self):\n",
        "        self.x_data = [[73, 80, 75],\n",
        "                       [93, 88, 93],\n",
        "                       [89, 91, 90],\n",
        "                       [96, 98, 100],\n",
        "                       [73, 66, 70]]\n",
        "        self.y_data = [[152],[185],[180],[196],[142]]\n",
        "    def __len__(self):\n",
        "        return len(self.x_data)\n",
        "    def __getitem__(self, idx):\n",
        "        x = torch.FloatTensor(self.x_data[idx])\n",
        "        y = torch.FloatTensor(self.y_data[idx])\n",
        "        return x, y\n",
        "model = Multivariable()\n",
        "optimizer = optim.SGD(model.parameters(), lr=1e-5)\n",
        "dataset = CustomDataset()\n",
        "\n",
        "dataloader = DataLoader(\n",
        "    dataset,\n",
        "    batch_size=2,\n",
        "    shuffle=True\n",
        ")"
      ],
      "metadata": {
        "id": "XyCQHmXzLBQA"
      },
      "execution_count": null,
      "outputs": []
    },
    {
      "cell_type": "code",
      "source": [
        "nb_epochs = 20\n",
        "# correct = 0\n",
        "# total = 0\n",
        "\n",
        "\n",
        "for epoch in range(nb_epochs+1):\n",
        "    for batch_idx, samples in enumerate(dataloader):\n",
        "        x_train, y_train = samples\n",
        "        prediction = model(x_train)\n",
        "        cost = F.mse_loss(prediction, y_train)\n",
        "        # correct_prediction = prediction.float() == y_train\n",
        "        # accuracy = correct_prediction.sum().item()\n",
        "\n",
        "        optimizer.zero_grad()\n",
        "        cost.backward()\n",
        "        optimizer.step()\n",
        "\n",
        "        print('Epoch {}/{} Batch {}/{} Hypothesis {} Cost {}'.format(epoch, nb_epochs, batch_idx+1,\n",
        "                                                                     len(dataloader),prediction.squeeze().detach(),\n",
        "                                                                     cost.item()))\n"
      ],
      "metadata": {
        "id": "POURiTQlP8F9",
        "colab": {
          "base_uri": "https://localhost:8080/"
        },
        "outputId": "0248b782-036a-41f0-d68d-79c152ce8b2c"
      },
      "execution_count": null,
      "outputs": [
        {
          "output_type": "stream",
          "name": "stdout",
          "text": [
            "Epoch 0/20 Batch 1/3 Hypothesis tensor([185.7820, 196.0114]) Cost 0.30583655834198\n",
            "Epoch 0/20 Batch 2/3 Hypothesis tensor([150.5989, 143.4031]) Cost 1.9658843278884888\n",
            "Epoch 0/20 Batch 3/3 Hypothesis 180.57398986816406 Cost 0.3294643759727478\n",
            "Epoch 1/20 Batch 1/3 Hypothesis tensor([195.5201, 185.3235]) Cost 0.16745851933956146\n",
            "Epoch 1/20 Batch 2/3 Hypothesis tensor([143.2413, 150.4238]) Cost 2.0125179290771484\n",
            "Epoch 1/20 Batch 3/3 Hypothesis 180.432373046875 Cost 0.18694645166397095\n",
            "Epoch 2/20 Batch 1/3 Hypothesis tensor([143.1476, 185.2489]) Cost 0.6894379258155823\n",
            "Epoch 2/20 Batch 2/3 Hypothesis tensor([195.1390, 179.9451]) Cost 0.3721758723258972\n",
            "Epoch 2/20 Batch 3/3 Hypothesis 150.2929229736328 Cost 2.914112091064453\n",
            "Epoch 3/20 Batch 1/3 Hypothesis tensor([180.8871, 196.1647]) Cost 0.40708011388778687\n",
            "Epoch 3/20 Batch 2/3 Hypothesis tensor([143.4602, 150.6665]) Cost 1.955207347869873\n",
            "Epoch 3/20 Batch 3/3 Hypothesis 185.65774536132812 Cost 0.43262895941734314\n",
            "Epoch 4/20 Batch 1/3 Hypothesis tensor([143.2074, 150.3927]) Cost 2.0206289291381836\n",
            "Epoch 4/20 Batch 2/3 Hypothesis tensor([195.6402, 180.4057]) Cost 0.14699581265449524\n",
            "Epoch 4/20 Batch 3/3 Hypothesis 185.42860412597656 Cost 0.1837015002965927\n",
            "Epoch 5/20 Batch 1/3 Hypothesis tensor([180.1909, 195.4064]) Cost 0.19441574811935425\n",
            "Epoch 5/20 Batch 2/3 Hypothesis tensor([185.3263, 150.3924]) Cost 1.3454208374023438\n",
            "Epoch 5/20 Batch 3/3 Hypothesis 143.39804077148438 Cost 1.9545179605484009\n",
            "Epoch 6/20 Batch 1/3 Hypothesis tensor([142.9902, 185.0448]) Cost 0.4912532866001129\n",
            "Epoch 6/20 Batch 2/3 Hypothesis tensor([149.9937, 179.8282]) Cost 2.02738618850708\n",
            "Epoch 6/20 Batch 3/3 Hypothesis 195.50514221191406 Cost 0.24488423764705658\n",
            "Epoch 7/20 Batch 1/3 Hypothesis tensor([180.5437, 185.5699]) Cost 0.3101730942726135\n",
            "Epoch 7/20 Batch 2/3 Hypothesis tensor([195.4935, 143.1793]) Cost 0.823624312877655\n",
            "Epoch 7/20 Batch 3/3 Hypothesis 150.29434204101562 Cost 2.909269094467163\n",
            "Epoch 8/20 Batch 1/3 Hypothesis tensor([185.9135, 143.6520]) Cost 1.781843662261963\n",
            "Epoch 8/20 Batch 2/3 Hypothesis tensor([150.4343, 180.3477]) Cost 1.2861502170562744\n",
            "Epoch 8/20 Batch 3/3 Hypothesis 195.83468627929688 Cost 0.027328625321388245\n",
            "Epoch 9/20 Batch 1/3 Hypothesis tensor([195.9300, 185.6979]) Cost 0.24595637619495392\n",
            "Epoch 9/20 Batch 2/3 Hypothesis tensor([143.3681, 180.5186]) Cost 1.0703600645065308\n",
            "Epoch 9/20 Batch 3/3 Hypothesis 150.25558471679688 Cost 3.0429847240448\n",
            "Epoch 10/20 Batch 1/3 Hypothesis tensor([180.8515, 143.6244]) Cost 1.6817975044250488\n",
            "Epoch 10/20 Batch 2/3 Hypothesis tensor([185.3581, 195.5671]) Cost 0.15781626105308533\n",
            "Epoch 10/20 Batch 3/3 Hypothesis 150.4508819580078 Cost 2.399766683578491\n",
            "Epoch 11/20 Batch 1/3 Hypothesis tensor([181.0014, 196.2882]) Cost 0.5428929924964905\n",
            "Epoch 11/20 Batch 2/3 Hypothesis tensor([185.7050, 150.7186]) Cost 1.0694905519485474\n",
            "Epoch 11/20 Batch 3/3 Hypothesis 143.5601348876953 Cost 2.434020757675171\n",
            "Epoch 12/20 Batch 1/3 Hypothesis tensor([185.1988, 195.3982]) Cost 0.20082932710647583\n",
            "Epoch 12/20 Batch 2/3 Hypothesis tensor([150.3926, 180.2944]) Cost 1.3352481126785278\n",
            "Epoch 12/20 Batch 3/3 Hypothesis 143.3898162841797 Cost 1.9315892457962036\n",
            "Epoch 13/20 Batch 1/3 Hypothesis tensor([150.1703, 195.2304]) Cost 1.9701030254364014\n",
            "Epoch 13/20 Batch 2/3 Hypothesis tensor([143.4321, 180.6094]) Cost 1.2112152576446533\n",
            "Epoch 13/20 Batch 3/3 Hypothesis 185.20472717285156 Cost 0.041913215070962906\n",
            "Epoch 14/20 Batch 1/3 Hypothesis tensor([195.2967, 180.0911]) Cost 0.25147825479507446\n",
            "Epoch 14/20 Batch 2/3 Hypothesis tensor([150.3609, 143.1573]) Cost 2.013108253479004\n",
            "Epoch 14/20 Batch 3/3 Hypothesis 185.38848876953125 Cost 0.15092352032661438\n",
            "Epoch 15/20 Batch 1/3 Hypothesis tensor([185.1939, 180.1823]) Cost 0.03542172908782959\n",
            "Epoch 15/20 Batch 2/3 Hypothesis tensor([195.2956, 143.0287]) Cost 0.7771601676940918\n",
            "Epoch 15/20 Batch 3/3 Hypothesis 150.2166290283203 Cost 3.1804120540618896\n",
            "Epoch 16/20 Batch 1/3 Hypothesis tensor([196.0851, 185.8350]) Cost 0.35226836800575256\n",
            "Epoch 16/20 Batch 2/3 Hypothesis tensor([180.5869, 150.6429]) Cost 1.0931555032730103\n",
            "Epoch 16/20 Batch 3/3 Hypothesis 143.5164337158203 Cost 2.2995712757110596\n",
            "Epoch 17/20 Batch 1/3 Hypothesis tensor([185.1612, 180.1526]) Cost 0.024633128196001053\n",
            "Epoch 17/20 Batch 2/3 Hypothesis tensor([143.0146, 150.2121]) Cost 2.1130738258361816\n",
            "Epoch 17/20 Batch 3/3 Hypothesis 195.4714813232422 Cost 0.2793319821357727\n",
            "Epoch 18/20 Batch 1/3 Hypothesis tensor([150.5977, 185.5451]) Cost 1.131848931312561\n",
            "Epoch 18/20 Batch 2/3 Hypothesis tensor([195.9431, 180.6852]) Cost 0.2363733947277069\n",
            "Epoch 18/20 Batch 3/3 Hypothesis 143.36764526367188 Cost 1.8704535961151123\n",
            "Epoch 19/20 Batch 1/3 Hypothesis tensor([150.1659, 180.0194]) Cost 1.682216763496399\n",
            "Epoch 19/20 Batch 2/3 Hypothesis tensor([195.6229, 143.2559]) Cost 0.8597723841667175\n",
            "Epoch 19/20 Batch 3/3 Hypothesis 185.2621307373047 Cost 0.06871252506971359\n",
            "Epoch 20/20 Batch 1/3 Hypothesis tensor([143.0498, 180.1255]) Cost 0.5588942766189575\n",
            "Epoch 20/20 Batch 2/3 Hypothesis tensor([184.8993, 150.0639]) Cost 1.8792462348937988\n",
            "Epoch 20/20 Batch 3/3 Hypothesis 195.545166015625 Cost 0.20687395334243774\n"
          ]
        }
      ]
    },
    {
      "cell_type": "code",
      "source": [
        "nb_epochs = 20\n",
        "correct = 0\n",
        "total = 0\n",
        "\n",
        "for epoch in range(nb_epochs):\n",
        "    for batch_idx, samples in enumerate(dataloader):\n",
        "        x_train, y_train = samples\n",
        "        prediction = model(x_train)\n",
        "        cost = F.mse_loss(prediction, y_train)\n",
        "\n",
        "        optimizer.zero_grad()\n",
        "        cost.backward()\n",
        "        optimizer.step()\n",
        "\n",
        "        # 정확도 계산 수정\n",
        "        total += y_train.size(0)\n",
        "        correct += ((prediction.round() == y_train).sum()).item()\n",
        "\n",
        "        print('Epoch {}/{} Batch {}/{} Cost {}'.format(epoch+1, nb_epochs, batch_idx+1, len(dataloader), cost.item()))\n",
        "\n",
        "accuracy = correct / total * 100\n",
        "print('Final Accuracy: {:.2f}%'.format(accuracy))\n"
      ],
      "metadata": {
        "colab": {
          "base_uri": "https://localhost:8080/"
        },
        "id": "EFt2h-rtctbR",
        "outputId": "06dc8fd7-a8f0-4a36-e78d-31dab1836326"
      },
      "execution_count": null,
      "outputs": [
        {
          "output_type": "stream",
          "name": "stdout",
          "text": [
            "Epoch 1/20 Batch 1/3 Cost 0.6803978085517883\n",
            "Epoch 1/20 Batch 2/3 Cost 1.885970115661621\n",
            "Epoch 1/20 Batch 3/3 Cost 0.189913809299469\n",
            "Epoch 2/20 Batch 1/3 Cost 1.0036207437515259\n",
            "Epoch 2/20 Batch 2/3 Cost 1.8496448993682861\n",
            "Epoch 2/20 Batch 3/3 Cost 0.17079129815101624\n",
            "Epoch 3/20 Batch 1/3 Cost 1.5457781553268433\n",
            "Epoch 3/20 Batch 2/3 Cost 0.9687325954437256\n",
            "Epoch 3/20 Batch 3/3 Cost 0.08287925273180008\n",
            "Epoch 4/20 Batch 1/3 Cost 1.5510458946228027\n",
            "Epoch 4/20 Batch 2/3 Cost 0.17725211381912231\n",
            "Epoch 4/20 Batch 3/3 Cost 1.75032377243042\n",
            "Epoch 5/20 Batch 1/3 Cost 2.3314852714538574\n",
            "Epoch 5/20 Batch 2/3 Cost 0.22399650514125824\n",
            "Epoch 5/20 Batch 3/3 Cost 0.0718105211853981\n",
            "Epoch 6/20 Batch 1/3 Cost 0.8199933767318726\n",
            "Epoch 6/20 Batch 2/3 Cost 1.610858678817749\n",
            "Epoch 6/20 Batch 3/3 Cost 0.2428346872329712\n",
            "Epoch 7/20 Batch 1/3 Cost 0.6844152212142944\n",
            "Epoch 7/20 Batch 2/3 Cost 2.242523193359375\n",
            "Epoch 7/20 Batch 3/3 Cost 0.37342363595962524\n",
            "Epoch 8/20 Batch 1/3 Cost 0.08067946135997772\n",
            "Epoch 8/20 Batch 2/3 Cost 1.7941699028015137\n",
            "Epoch 8/20 Batch 3/3 Cost 2.2717041969299316\n",
            "Epoch 9/20 Batch 1/3 Cost 0.8114240169525146\n",
            "Epoch 9/20 Batch 2/3 Cost 0.010191891342401505\n",
            "Epoch 9/20 Batch 3/3 Cost 3.421337127685547\n",
            "Epoch 10/20 Batch 1/3 Cost 1.637291431427002\n",
            "Epoch 10/20 Batch 2/3 Cost 1.3787765502929688\n",
            "Epoch 10/20 Batch 3/3 Cost 0.0407838337123394\n",
            "Epoch 11/20 Batch 1/3 Cost 1.0865923166275024\n",
            "Epoch 11/20 Batch 2/3 Cost 1.5870859622955322\n",
            "Epoch 11/20 Batch 3/3 Cost 0.2574552893638611\n",
            "Epoch 12/20 Batch 1/3 Cost 0.31293588876724243\n",
            "Epoch 12/20 Batch 2/3 Cost 1.494182825088501\n",
            "Epoch 12/20 Batch 3/3 Cost 2.4343066215515137\n",
            "Epoch 13/20 Batch 1/3 Cost 1.7234596014022827\n",
            "Epoch 13/20 Batch 2/3 Cost 1.4028677940368652\n",
            "Epoch 13/20 Batch 3/3 Cost 0.04650598764419556\n",
            "Epoch 14/20 Batch 1/3 Cost 1.591499924659729\n",
            "Epoch 14/20 Batch 2/3 Cost 0.14841130375862122\n",
            "Epoch 14/20 Batch 3/3 Cost 1.7153340578079224\n",
            "Epoch 15/20 Batch 1/3 Cost 2.2582409381866455\n",
            "Epoch 15/20 Batch 2/3 Cost 0.33153557777404785\n",
            "Epoch 15/20 Batch 3/3 Cost 1.4318742752075195\n",
            "Epoch 16/20 Batch 1/3 Cost 0.02647579088807106\n",
            "Epoch 16/20 Batch 2/3 Cost 0.8233393430709839\n",
            "Epoch 16/20 Batch 3/3 Cost 3.584913730621338\n",
            "Epoch 17/20 Batch 1/3 Cost 1.075899600982666\n",
            "Epoch 17/20 Batch 2/3 Cost 0.3299841284751892\n",
            "Epoch 17/20 Batch 3/3 Cost 2.0714542865753174\n",
            "Epoch 18/20 Batch 1/3 Cost 0.2818543612957001\n",
            "Epoch 18/20 Batch 2/3 Cost 2.07362699508667\n",
            "Epoch 18/20 Batch 3/3 Cost 0.1254916787147522\n",
            "Epoch 19/20 Batch 1/3 Cost 0.6508742570877075\n",
            "Epoch 19/20 Batch 2/3 Cost 1.8768962621688843\n",
            "Epoch 19/20 Batch 3/3 Cost 0.189169779419899\n",
            "Epoch 20/20 Batch 1/3 Cost 1.0214885473251343\n",
            "Epoch 20/20 Batch 2/3 Cost 1.2969447374343872\n",
            "Epoch 20/20 Batch 3/3 Cost 0.3855110704898834\n",
            "Final Accuracy: 35.00%\n"
          ]
        }
      ]
    },
    {
      "cell_type": "code",
      "source": [],
      "metadata": {
        "id": "vYCyxKcdLNsl"
      },
      "execution_count": null,
      "outputs": []
    },
    {
      "cell_type": "code",
      "source": [],
      "metadata": {
        "id": "Psv0dpFKQdcC"
      },
      "execution_count": null,
      "outputs": []
    },
    {
      "cell_type": "code",
      "source": [],
      "metadata": {
        "id": "dl2W6i1xQvew"
      },
      "execution_count": null,
      "outputs": []
    },
    {
      "cell_type": "code",
      "source": [],
      "metadata": {
        "id": "JzO7C794RNED"
      },
      "execution_count": null,
      "outputs": []
    },
    {
      "cell_type": "code",
      "source": [],
      "metadata": {
        "id": "70GPmeEXRRdu"
      },
      "execution_count": null,
      "outputs": []
    },
    {
      "cell_type": "code",
      "source": [],
      "metadata": {
        "id": "16J2HrzISPq9"
      },
      "execution_count": null,
      "outputs": []
    },
    {
      "cell_type": "code",
      "source": [],
      "metadata": {
        "id": "311FmS6fSkUA"
      },
      "execution_count": null,
      "outputs": []
    },
    {
      "cell_type": "code",
      "source": [],
      "metadata": {
        "id": "CHN82TDDTK5c"
      },
      "execution_count": null,
      "outputs": []
    },
    {
      "cell_type": "code",
      "source": [],
      "metadata": {
        "id": "cf4oFOWETOiO"
      },
      "execution_count": null,
      "outputs": []
    },
    {
      "cell_type": "code",
      "source": [],
      "metadata": {
        "id": "CTZR0rxvUZJt"
      },
      "execution_count": null,
      "outputs": []
    },
    {
      "cell_type": "code",
      "source": [],
      "metadata": {
        "id": "r-Rtq2I-VImn"
      },
      "execution_count": null,
      "outputs": []
    },
    {
      "cell_type": "code",
      "source": [],
      "metadata": {
        "id": "bCs7k--nV0TP"
      },
      "execution_count": null,
      "outputs": []
    },
    {
      "cell_type": "code",
      "source": [],
      "metadata": {
        "id": "Ie4Kr8FEWU3c"
      },
      "execution_count": null,
      "outputs": []
    },
    {
      "cell_type": "code",
      "source": [
        "\n"
      ],
      "metadata": {
        "id": "pf-ej5MEW_bW"
      },
      "execution_count": null,
      "outputs": []
    }
  ]
}