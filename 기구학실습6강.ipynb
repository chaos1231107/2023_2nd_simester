{
  "nbformat": 4,
  "nbformat_minor": 0,
  "metadata": {
    "colab": {
      "provenance": [],
      "gpuType": "T4",
      "authorship_tag": "ABX9TyPynb1fJYj1A19CFc+MDfNF",
      "include_colab_link": true
    },
    "kernelspec": {
      "name": "python3",
      "display_name": "Python 3"
    },
    "language_info": {
      "name": "python"
    },
    "accelerator": "GPU"
  },
  "cells": [
    {
      "cell_type": "markdown",
      "metadata": {
        "id": "view-in-github",
        "colab_type": "text"
      },
      "source": [
        "<a href=\"https://colab.research.google.com/github/chaos1231107/2023_2nd_simester/blob/kinematics/%EA%B8%B0%EA%B5%AC%ED%95%99%EC%8B%A4%EC%8A%B56%EA%B0%95.ipynb\" target=\"_parent\"><img src=\"https://colab.research.google.com/assets/colab-badge.svg\" alt=\"Open In Colab\"/></a>"
      ]
    },
    {
      "cell_type": "code",
      "execution_count": 48,
      "metadata": {
        "id": "F9jlCsSn7mKJ"
      },
      "outputs": [],
      "source": [
        "import tensorflow as tf\n",
        "import numpy as np\n",
        "import sympy as sp\n",
        "import matplotlib.pyplot as plt"
      ]
    },
    {
      "cell_type": "code",
      "source": [
        "def theta(t):\n",
        "    return np.pi/6 + np.pi*t"
      ],
      "metadata": {
        "id": "J3qlyJN78Vp2"
      },
      "execution_count": 49,
      "outputs": []
    },
    {
      "cell_type": "code",
      "source": [
        "def position(t, theta):\n",
        "    return L*tf.math.cos(theta), L*tf.math.sin(theta)"
      ],
      "metadata": {
        "id": "JtUKG43z9UcL"
      },
      "execution_count": 50,
      "outputs": []
    },
    {
      "cell_type": "code",
      "source": [
        "t = np.linspace(0,2,100)\n",
        "L = 0.5"
      ],
      "metadata": {
        "id": "lR_oVWG49dEP"
      },
      "execution_count": 51,
      "outputs": []
    },
    {
      "cell_type": "code",
      "source": [
        "p_val = position(L, theta(t))"
      ],
      "metadata": {
        "id": "ADAE93GK9iu7"
      },
      "execution_count": 52,
      "outputs": []
    },
    {
      "cell_type": "code",
      "source": [
        "model = tf.keras.Sequential()\n",
        "model.add(tf.keras.layers.Input(shape=(2,)))\n",
        "model.add(tf.keras.layers.Dense(10, activation='relu'))\n",
        "model.add(tf.keras.layers.Dense(10, activation='relu'))\n",
        "model.add(tf.keras.layers.Dense(2))"
      ],
      "metadata": {
        "id": "3S8Oz3oy-9wV"
      },
      "execution_count": 53,
      "outputs": []
    },
    {
      "cell_type": "code",
      "source": [
        "model.summary()"
      ],
      "metadata": {
        "colab": {
          "base_uri": "https://localhost:8080/"
        },
        "id": "6Z_y7wbKCg65",
        "outputId": "92b058a6-5a2f-4d7d-8984-f373ce2434a6"
      },
      "execution_count": 54,
      "outputs": [
        {
          "output_type": "stream",
          "name": "stdout",
          "text": [
            "Model: \"sequential_3\"\n",
            "_________________________________________________________________\n",
            " Layer (type)                Output Shape              Param #   \n",
            "=================================================================\n",
            " dense_9 (Dense)             (None, 10)                30        \n",
            "                                                                 \n",
            " dense_10 (Dense)            (None, 10)                110       \n",
            "                                                                 \n",
            " dense_11 (Dense)            (None, 2)                 22        \n",
            "                                                                 \n",
            "=================================================================\n",
            "Total params: 162 (648.00 Byte)\n",
            "Trainable params: 162 (648.00 Byte)\n",
            "Non-trainable params: 0 (0.00 Byte)\n",
            "_________________________________________________________________\n"
          ]
        }
      ]
    },
    {
      "cell_type": "code",
      "source": [
        "def f(x):\n",
        "    #choose first and second element of numpy array\n",
        "    x1, x2 = x[:,0:1], x[:,1:]\n",
        "    y1 = x1 + x2\n",
        "    y2 = x1 * x2\n",
        "    return np.concatenate((y1, y2), axis=-1)"
      ],
      "metadata": {
        "id": "Hidcg5ikC6Yv"
      },
      "execution_count": 55,
      "outputs": []
    },
    {
      "cell_type": "code",
      "source": [
        "x1_train = np.random.uniform(-2,2,size=(100,1))\n",
        "x2_train = np.random.uniform(-2,2,size=(100,1))\n",
        "x_train = np.concatenate((x1_train, x2_train), axis=-1)\n",
        "y_train = f(x_train)"
      ],
      "metadata": {
        "id": "3cDUp5OXDl0r"
      },
      "execution_count": 56,
      "outputs": []
    },
    {
      "cell_type": "code",
      "source": [
        "x1_test = np.random.uniform(-2,2, size=(20,1))\n",
        "x2_test = np.random.uniform(-2,2,size=(20,1))\n",
        "x_test = np.concatenate((x1_test, x2_test),axis=-1)\n",
        "y_test = f(x_test)"
      ],
      "metadata": {
        "id": "xNokdc6QFJrN"
      },
      "execution_count": 57,
      "outputs": []
    },
    {
      "cell_type": "code",
      "source": [
        "x_train = x_train.reshape(-1, 2)\n",
        "x_test = x_test.reshape(-1, 2)"
      ],
      "metadata": {
        "id": "TsQfc55QGjSl"
      },
      "execution_count": 58,
      "outputs": []
    },
    {
      "cell_type": "code",
      "source": [
        "model.compile(optimizer='sgd', loss='mse')\n",
        "model.fit(x_train, y_train, epochs=100,validation_data=(x_test, y_test))"
      ],
      "metadata": {
        "colab": {
          "base_uri": "https://localhost:8080/"
        },
        "id": "zTTNlRewF3m1",
        "outputId": "cdadbaac-01df-4f0c-86de-6f59b13af218"
      },
      "execution_count": 63,
      "outputs": [
        {
          "output_type": "stream",
          "name": "stdout",
          "text": [
            "Epoch 1/100\n",
            "4/4 [==============================] - 1s 52ms/step - loss: 0.0050 - val_loss: 0.0061\n",
            "Epoch 2/100\n",
            "4/4 [==============================] - 0s 10ms/step - loss: 0.0050 - val_loss: 0.0060\n",
            "Epoch 3/100\n",
            "4/4 [==============================] - 0s 10ms/step - loss: 0.0050 - val_loss: 0.0060\n",
            "Epoch 4/100\n",
            "4/4 [==============================] - 0s 10ms/step - loss: 0.0049 - val_loss: 0.0062\n",
            "Epoch 5/100\n",
            "4/4 [==============================] - 0s 10ms/step - loss: 0.0050 - val_loss: 0.0065\n",
            "Epoch 6/100\n",
            "4/4 [==============================] - 0s 10ms/step - loss: 0.0050 - val_loss: 0.0062\n",
            "Epoch 7/100\n",
            "4/4 [==============================] - 0s 10ms/step - loss: 0.0049 - val_loss: 0.0072\n",
            "Epoch 8/100\n",
            "4/4 [==============================] - 0s 11ms/step - loss: 0.0051 - val_loss: 0.0064\n",
            "Epoch 9/100\n",
            "4/4 [==============================] - 0s 11ms/step - loss: 0.0049 - val_loss: 0.0065\n",
            "Epoch 10/100\n",
            "4/4 [==============================] - 0s 11ms/step - loss: 0.0049 - val_loss: 0.0069\n",
            "Epoch 11/100\n",
            "4/4 [==============================] - 0s 10ms/step - loss: 0.0050 - val_loss: 0.0063\n",
            "Epoch 12/100\n",
            "4/4 [==============================] - 0s 10ms/step - loss: 0.0049 - val_loss: 0.0061\n",
            "Epoch 13/100\n",
            "4/4 [==============================] - 0s 10ms/step - loss: 0.0050 - val_loss: 0.0062\n",
            "Epoch 14/100\n",
            "4/4 [==============================] - 0s 9ms/step - loss: 0.0049 - val_loss: 0.0060\n",
            "Epoch 15/100\n",
            "4/4 [==============================] - 0s 10ms/step - loss: 0.0048 - val_loss: 0.0061\n",
            "Epoch 16/100\n",
            "4/4 [==============================] - 0s 10ms/step - loss: 0.0048 - val_loss: 0.0058\n",
            "Epoch 17/100\n",
            "4/4 [==============================] - 0s 10ms/step - loss: 0.0049 - val_loss: 0.0058\n",
            "Epoch 18/100\n",
            "4/4 [==============================] - 0s 10ms/step - loss: 0.0049 - val_loss: 0.0060\n",
            "Epoch 19/100\n",
            "4/4 [==============================] - 0s 10ms/step - loss: 0.0048 - val_loss: 0.0059\n",
            "Epoch 20/100\n",
            "4/4 [==============================] - 0s 10ms/step - loss: 0.0049 - val_loss: 0.0063\n",
            "Epoch 21/100\n",
            "4/4 [==============================] - 0s 10ms/step - loss: 0.0049 - val_loss: 0.0060\n",
            "Epoch 22/100\n",
            "4/4 [==============================] - 0s 10ms/step - loss: 0.0049 - val_loss: 0.0058\n",
            "Epoch 23/100\n",
            "4/4 [==============================] - 0s 10ms/step - loss: 0.0049 - val_loss: 0.0057\n",
            "Epoch 24/100\n",
            "4/4 [==============================] - 0s 10ms/step - loss: 0.0049 - val_loss: 0.0057\n",
            "Epoch 25/100\n",
            "4/4 [==============================] - 0s 10ms/step - loss: 0.0049 - val_loss: 0.0059\n",
            "Epoch 26/100\n",
            "4/4 [==============================] - 0s 13ms/step - loss: 0.0048 - val_loss: 0.0058\n",
            "Epoch 27/100\n",
            "4/4 [==============================] - 0s 10ms/step - loss: 0.0048 - val_loss: 0.0057\n",
            "Epoch 28/100\n",
            "4/4 [==============================] - 0s 10ms/step - loss: 0.0048 - val_loss: 0.0057\n",
            "Epoch 29/100\n",
            "4/4 [==============================] - 0s 10ms/step - loss: 0.0048 - val_loss: 0.0061\n",
            "Epoch 30/100\n",
            "4/4 [==============================] - 0s 10ms/step - loss: 0.0050 - val_loss: 0.0058\n",
            "Epoch 31/100\n",
            "4/4 [==============================] - 0s 10ms/step - loss: 0.0049 - val_loss: 0.0062\n",
            "Epoch 32/100\n",
            "4/4 [==============================] - 0s 11ms/step - loss: 0.0048 - val_loss: 0.0059\n",
            "Epoch 33/100\n",
            "4/4 [==============================] - 0s 11ms/step - loss: 0.0048 - val_loss: 0.0061\n",
            "Epoch 34/100\n",
            "4/4 [==============================] - 0s 10ms/step - loss: 0.0048 - val_loss: 0.0060\n",
            "Epoch 35/100\n",
            "4/4 [==============================] - 0s 11ms/step - loss: 0.0048 - val_loss: 0.0057\n",
            "Epoch 36/100\n",
            "4/4 [==============================] - 0s 13ms/step - loss: 0.0048 - val_loss: 0.0060\n",
            "Epoch 37/100\n",
            "4/4 [==============================] - 0s 11ms/step - loss: 0.0048 - val_loss: 0.0059\n",
            "Epoch 38/100\n",
            "4/4 [==============================] - 0s 10ms/step - loss: 0.0048 - val_loss: 0.0059\n",
            "Epoch 39/100\n",
            "4/4 [==============================] - 0s 10ms/step - loss: 0.0048 - val_loss: 0.0061\n",
            "Epoch 40/100\n",
            "4/4 [==============================] - 0s 10ms/step - loss: 0.0048 - val_loss: 0.0058\n",
            "Epoch 41/100\n",
            "4/4 [==============================] - 0s 10ms/step - loss: 0.0048 - val_loss: 0.0056\n",
            "Epoch 42/100\n",
            "4/4 [==============================] - 0s 11ms/step - loss: 0.0049 - val_loss: 0.0056\n",
            "Epoch 43/100\n",
            "4/4 [==============================] - 0s 11ms/step - loss: 0.0048 - val_loss: 0.0059\n",
            "Epoch 44/100\n",
            "4/4 [==============================] - 0s 10ms/step - loss: 0.0048 - val_loss: 0.0063\n",
            "Epoch 45/100\n",
            "4/4 [==============================] - 0s 10ms/step - loss: 0.0048 - val_loss: 0.0061\n",
            "Epoch 46/100\n",
            "4/4 [==============================] - 0s 11ms/step - loss: 0.0048 - val_loss: 0.0061\n",
            "Epoch 47/100\n",
            "4/4 [==============================] - 0s 10ms/step - loss: 0.0048 - val_loss: 0.0069\n",
            "Epoch 48/100\n",
            "4/4 [==============================] - 0s 10ms/step - loss: 0.0049 - val_loss: 0.0068\n",
            "Epoch 49/100\n",
            "4/4 [==============================] - 0s 11ms/step - loss: 0.0049 - val_loss: 0.0072\n",
            "Epoch 50/100\n",
            "4/4 [==============================] - 0s 14ms/step - loss: 0.0049 - val_loss: 0.0067\n",
            "Epoch 51/100\n",
            "4/4 [==============================] - 0s 10ms/step - loss: 0.0048 - val_loss: 0.0063\n",
            "Epoch 52/100\n",
            "4/4 [==============================] - 0s 10ms/step - loss: 0.0050 - val_loss: 0.0062\n",
            "Epoch 53/100\n",
            "4/4 [==============================] - 0s 10ms/step - loss: 0.0048 - val_loss: 0.0061\n",
            "Epoch 54/100\n",
            "4/4 [==============================] - 0s 10ms/step - loss: 0.0048 - val_loss: 0.0060\n",
            "Epoch 55/100\n",
            "4/4 [==============================] - 0s 10ms/step - loss: 0.0047 - val_loss: 0.0063\n",
            "Epoch 56/100\n",
            "4/4 [==============================] - 0s 10ms/step - loss: 0.0048 - val_loss: 0.0060\n",
            "Epoch 57/100\n",
            "4/4 [==============================] - 0s 11ms/step - loss: 0.0048 - val_loss: 0.0062\n",
            "Epoch 58/100\n",
            "4/4 [==============================] - 0s 10ms/step - loss: 0.0047 - val_loss: 0.0062\n",
            "Epoch 59/100\n",
            "4/4 [==============================] - 0s 10ms/step - loss: 0.0048 - val_loss: 0.0062\n",
            "Epoch 60/100\n",
            "4/4 [==============================] - 0s 10ms/step - loss: 0.0048 - val_loss: 0.0059\n",
            "Epoch 61/100\n",
            "4/4 [==============================] - 0s 10ms/step - loss: 0.0048 - val_loss: 0.0061\n",
            "Epoch 62/100\n",
            "4/4 [==============================] - 0s 10ms/step - loss: 0.0050 - val_loss: 0.0062\n",
            "Epoch 63/100\n",
            "4/4 [==============================] - 0s 10ms/step - loss: 0.0049 - val_loss: 0.0064\n",
            "Epoch 64/100\n",
            "4/4 [==============================] - 0s 11ms/step - loss: 0.0051 - val_loss: 0.0064\n",
            "Epoch 65/100\n",
            "4/4 [==============================] - 0s 11ms/step - loss: 0.0047 - val_loss: 0.0062\n",
            "Epoch 66/100\n",
            "4/4 [==============================] - 0s 11ms/step - loss: 0.0048 - val_loss: 0.0062\n",
            "Epoch 67/100\n",
            "4/4 [==============================] - 0s 10ms/step - loss: 0.0047 - val_loss: 0.0063\n",
            "Epoch 68/100\n",
            "4/4 [==============================] - 0s 11ms/step - loss: 0.0047 - val_loss: 0.0066\n",
            "Epoch 69/100\n",
            "4/4 [==============================] - 0s 11ms/step - loss: 0.0048 - val_loss: 0.0063\n",
            "Epoch 70/100\n",
            "4/4 [==============================] - 0s 11ms/step - loss: 0.0048 - val_loss: 0.0064\n",
            "Epoch 71/100\n",
            "4/4 [==============================] - 0s 10ms/step - loss: 0.0047 - val_loss: 0.0063\n",
            "Epoch 72/100\n",
            "4/4 [==============================] - 0s 10ms/step - loss: 0.0047 - val_loss: 0.0064\n",
            "Epoch 73/100\n",
            "4/4 [==============================] - 0s 11ms/step - loss: 0.0047 - val_loss: 0.0062\n",
            "Epoch 74/100\n",
            "4/4 [==============================] - 0s 13ms/step - loss: 0.0047 - val_loss: 0.0060\n",
            "Epoch 75/100\n",
            "4/4 [==============================] - 0s 11ms/step - loss: 0.0047 - val_loss: 0.0062\n",
            "Epoch 76/100\n",
            "4/4 [==============================] - 0s 10ms/step - loss: 0.0048 - val_loss: 0.0064\n",
            "Epoch 77/100\n",
            "4/4 [==============================] - 0s 11ms/step - loss: 0.0050 - val_loss: 0.0064\n",
            "Epoch 78/100\n",
            "4/4 [==============================] - 0s 11ms/step - loss: 0.0049 - val_loss: 0.0063\n",
            "Epoch 79/100\n",
            "4/4 [==============================] - 0s 11ms/step - loss: 0.0048 - val_loss: 0.0064\n",
            "Epoch 80/100\n",
            "4/4 [==============================] - 0s 11ms/step - loss: 0.0048 - val_loss: 0.0061\n",
            "Epoch 81/100\n",
            "4/4 [==============================] - 0s 16ms/step - loss: 0.0047 - val_loss: 0.0063\n",
            "Epoch 82/100\n",
            "4/4 [==============================] - 0s 16ms/step - loss: 0.0047 - val_loss: 0.0060\n",
            "Epoch 83/100\n",
            "4/4 [==============================] - 0s 17ms/step - loss: 0.0047 - val_loss: 0.0061\n",
            "Epoch 84/100\n",
            "4/4 [==============================] - 0s 16ms/step - loss: 0.0049 - val_loss: 0.0065\n",
            "Epoch 85/100\n",
            "4/4 [==============================] - 0s 23ms/step - loss: 0.0047 - val_loss: 0.0063\n",
            "Epoch 86/100\n",
            "4/4 [==============================] - 0s 16ms/step - loss: 0.0048 - val_loss: 0.0062\n",
            "Epoch 87/100\n",
            "4/4 [==============================] - 0s 15ms/step - loss: 0.0048 - val_loss: 0.0071\n",
            "Epoch 88/100\n",
            "4/4 [==============================] - 0s 18ms/step - loss: 0.0048 - val_loss: 0.0068\n",
            "Epoch 89/100\n",
            "4/4 [==============================] - 0s 37ms/step - loss: 0.0047 - val_loss: 0.0065\n",
            "Epoch 90/100\n",
            "4/4 [==============================] - 0s 44ms/step - loss: 0.0047 - val_loss: 0.0062\n",
            "Epoch 91/100\n",
            "4/4 [==============================] - 0s 45ms/step - loss: 0.0047 - val_loss: 0.0064\n",
            "Epoch 92/100\n",
            "4/4 [==============================] - 0s 34ms/step - loss: 0.0047 - val_loss: 0.0069\n",
            "Epoch 93/100\n",
            "4/4 [==============================] - 0s 31ms/step - loss: 0.0048 - val_loss: 0.0065\n",
            "Epoch 94/100\n",
            "4/4 [==============================] - 0s 31ms/step - loss: 0.0047 - val_loss: 0.0063\n",
            "Epoch 95/100\n",
            "4/4 [==============================] - 0s 36ms/step - loss: 0.0047 - val_loss: 0.0065\n",
            "Epoch 96/100\n",
            "4/4 [==============================] - 0s 11ms/step - loss: 0.0046 - val_loss: 0.0060\n",
            "Epoch 97/100\n",
            "4/4 [==============================] - 0s 10ms/step - loss: 0.0046 - val_loss: 0.0061\n",
            "Epoch 98/100\n",
            "4/4 [==============================] - 0s 10ms/step - loss: 0.0046 - val_loss: 0.0069\n",
            "Epoch 99/100\n",
            "4/4 [==============================] - 0s 10ms/step - loss: 0.0047 - val_loss: 0.0067\n",
            "Epoch 100/100\n",
            "4/4 [==============================] - 0s 10ms/step - loss: 0.0047 - val_loss: 0.0068\n"
          ]
        },
        {
          "output_type": "execute_result",
          "data": {
            "text/plain": [
              "<keras.src.callbacks.History at 0x7df5b6277910>"
            ]
          },
          "metadata": {},
          "execution_count": 63
        }
      ]
    }
  ]
}