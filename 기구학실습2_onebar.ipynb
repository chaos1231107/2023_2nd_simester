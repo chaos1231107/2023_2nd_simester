{
  "nbformat": 4,
  "nbformat_minor": 0,
  "metadata": {
    "colab": {
      "provenance": [],
      "authorship_tag": "ABX9TyNOq5czUJGWWeR1WN3Vudjw",
      "include_colab_link": true
    },
    "kernelspec": {
      "name": "python3",
      "display_name": "Python 3"
    },
    "language_info": {
      "name": "python"
    }
  },
  "cells": [
    {
      "cell_type": "markdown",
      "metadata": {
        "id": "view-in-github",
        "colab_type": "text"
      },
      "source": [
        "<a href=\"https://colab.research.google.com/github/chaos1231107/2023_2nd_simester/blob/kinematics/%EA%B8%B0%EA%B5%AC%ED%95%99%EC%8B%A4%EC%8A%B52_onebar.ipynb\" target=\"_parent\"><img src=\"https://colab.research.google.com/assets/colab-badge.svg\" alt=\"Open In Colab\"/></a>"
      ]
    },
    {
      "cell_type": "code",
      "execution_count": 85,
      "metadata": {
        "id": "fgvUO8lCuZs0"
      },
      "outputs": [],
      "source": [
        "import numpy as np\n",
        "import sympy as sp\n",
        "import tensorflow as tf\n",
        "import matplotlib.pyplot as plt"
      ]
    },
    {
      "cell_type": "code",
      "source": [
        "def position(L, theta):\n",
        "    return L*np.cos(theta), L*np.sin(theta)\n",
        "L = 0.5\n",
        "theta = np.pi/6\n",
        "position(L, theta)"
      ],
      "metadata": {
        "colab": {
          "base_uri": "https://localhost:8080/"
        },
        "id": "mdkdlPg3uvV6",
        "outputId": "fad903b7-e01c-4f88-cae7-ed9f9da495a6"
      },
      "execution_count": 86,
      "outputs": [
        {
          "output_type": "execute_result",
          "data": {
            "text/plain": [
              "(0.43301270189221935, 0.24999999999999997)"
            ]
          },
          "metadata": {},
          "execution_count": 86
        }
      ]
    },
    {
      "cell_type": "code",
      "source": [
        "L, theta = sp.symbols('L, Theta')\n",
        "position = (L*sp.cos(theta), L*sp.sin(theta))\n",
        "position_val = []\n",
        "for pos in position:\n",
        "    position_val.append(pos.subs([(L,0.5), (theta, np.pi/6)]))\n",
        "position_val = np.array(position_val).astype('float')\n",
        "position_val"
      ],
      "metadata": {
        "colab": {
          "base_uri": "https://localhost:8080/"
        },
        "id": "p4zMnD8mvB7E",
        "outputId": "f6eba36e-2373-494b-a0de-dbc1eab43147"
      },
      "execution_count": 87,
      "outputs": [
        {
          "output_type": "execute_result",
          "data": {
            "text/plain": [
              "array([0.4330127, 0.25     ])"
            ]
          },
          "metadata": {},
          "execution_count": 87
        }
      ]
    },
    {
      "cell_type": "code",
      "source": [
        "position_val = [pos.subs([(L, 0.5),(theta, np.pi/6)]) for pos in position]\n",
        "position_val = np.array(position_val).astype('float')\n",
        "position_val"
      ],
      "metadata": {
        "colab": {
          "base_uri": "https://localhost:8080/"
        },
        "id": "P9ZOtgqOvuj3",
        "outputId": "9e4b5296-5313-42fd-ee66-4115eec11aba"
      },
      "execution_count": 88,
      "outputs": [
        {
          "output_type": "execute_result",
          "data": {
            "text/plain": [
              "array([0.4330127, 0.25     ])"
            ]
          },
          "metadata": {},
          "execution_count": 88
        }
      ]
    },
    {
      "cell_type": "code",
      "source": [
        "postion_val = list(map(lambda x:x.subs(((L,0.5),(theta,np.pi/6))),position))\n",
        "position_val = np.array(position_val).astype('float')\n",
        "position_val"
      ],
      "metadata": {
        "colab": {
          "base_uri": "https://localhost:8080/"
        },
        "id": "OsAp8se1wV5M",
        "outputId": "f765e7b3-6f17-450b-cb95-821c8f86c3b9"
      },
      "execution_count": 89,
      "outputs": [
        {
          "output_type": "execute_result",
          "data": {
            "text/plain": [
              "array([0.4330127, 0.25     ])"
            ]
          },
          "metadata": {},
          "execution_count": 89
        }
      ]
    },
    {
      "cell_type": "code",
      "source": [
        "def position_tf(L, theta):\n",
        "    return L*tf.math.cos(theta), L*tf.math.sin(theta)"
      ],
      "metadata": {
        "id": "76-guJZ3ygBd"
      },
      "execution_count": 90,
      "outputs": []
    },
    {
      "cell_type": "code",
      "source": [
        "L = 0.5\n",
        "theta = np.pi/6\n",
        "position_tf(L, theta)"
      ],
      "metadata": {
        "colab": {
          "base_uri": "https://localhost:8080/"
        },
        "id": "pmvaR7Jxyus3",
        "outputId": "5bb34bad-0c70-4aaa-82c3-813d7789557f"
      },
      "execution_count": 91,
      "outputs": [
        {
          "output_type": "execute_result",
          "data": {
            "text/plain": [
              "(<tf.Tensor: shape=(), dtype=float32, numpy=0.4330127>,\n",
              " <tf.Tensor: shape=(), dtype=float32, numpy=0.25>)"
            ]
          },
          "metadata": {},
          "execution_count": 91
        }
      ]
    },
    {
      "cell_type": "code",
      "source": [
        "position_tf(tf.constant(L), tf.constant(theta))"
      ],
      "metadata": {
        "colab": {
          "base_uri": "https://localhost:8080/"
        },
        "id": "sb8ANjj6y0Sl",
        "outputId": "d9c53032-ccf8-4af2-986d-9ae637858a2e"
      },
      "execution_count": 92,
      "outputs": [
        {
          "output_type": "execute_result",
          "data": {
            "text/plain": [
              "(<tf.Tensor: shape=(), dtype=float32, numpy=0.4330127>,\n",
              " <tf.Tensor: shape=(), dtype=float32, numpy=0.25>)"
            ]
          },
          "metadata": {},
          "execution_count": 92
        }
      ]
    },
    {
      "cell_type": "code",
      "source": [
        "def theta(t):\n",
        "    return np.pi/6 + np.pi*t"
      ],
      "metadata": {
        "id": "Duy8_IZNy-VD"
      },
      "execution_count": 93,
      "outputs": []
    },
    {
      "cell_type": "code",
      "source": [
        "def position(L,theta):\n",
        "    return L*np.cos(theta), L*np.sin(theta)"
      ],
      "metadata": {
        "id": "88tfPVfz2Sz2"
      },
      "execution_count": 94,
      "outputs": []
    },
    {
      "cell_type": "code",
      "source": [
        "t = np.linspace(0,2,100)\n",
        "L = 0.5"
      ],
      "metadata": {
        "id": "Eq_5UBuY2cQb"
      },
      "execution_count": 95,
      "outputs": []
    },
    {
      "cell_type": "code",
      "source": [
        "p_val = position(0.5, theta(t))\n",
        "p_val"
      ],
      "metadata": {
        "colab": {
          "base_uri": "https://localhost:8080/"
        },
        "id": "_IDM1-Qq2hoN",
        "outputId": "758e79fa-5ff0-4958-d74b-8c35ed77b958"
      },
      "execution_count": 96,
      "outputs": [
        {
          "output_type": "execute_result",
          "data": {
            "text/plain": [
              "(array([ 4.33012702e-01,  4.16284927e-01,  3.97880920e-01,  3.77874787e-01,\n",
              "         3.56347086e-01,  3.33384500e-01,  3.09079493e-01,  2.83529932e-01,\n",
              "         2.56838696e-01,  2.29113261e-01,  2.00465268e-01,  1.71010072e-01,\n",
              "         1.40866278e-01,  1.10155266e-01,  7.90006980e-02,  4.75280217e-02,\n",
              "         1.58639667e-02, -1.58639667e-02, -4.75280217e-02, -7.90006980e-02,\n",
              "        -1.10155266e-01, -1.40866278e-01, -1.71010072e-01, -2.00465268e-01,\n",
              "        -2.29113261e-01, -2.56838696e-01, -2.83529932e-01, -3.09079493e-01,\n",
              "        -3.33384500e-01, -3.56347086e-01, -3.77874787e-01, -3.97880920e-01,\n",
              "        -4.16284927e-01, -4.33012702e-01, -4.47996887e-01, -4.61177147e-01,\n",
              "        -4.72500409e-01, -4.81921079e-01, -4.89401223e-01, -4.94910721e-01,\n",
              "        -4.98427388e-01, -4.99937064e-01, -4.99433670e-01, -4.96919232e-01,\n",
              "        -4.92403877e-01, -4.85905784e-01, -4.77451121e-01, -4.67073930e-01,\n",
              "        -4.54815998e-01, -4.40726682e-01, -4.24862715e-01, -4.07287976e-01,\n",
              "        -3.88073232e-01, -3.67295854e-01, -3.45039506e-01, -3.21393805e-01,\n",
              "        -2.96453965e-01, -2.70320409e-01, -2.43098368e-01, -2.14897456e-01,\n",
              "        -1.85831228e-01, -1.56016723e-01, -1.25573994e-01, -9.46256222e-02,\n",
              "        -6.32962268e-02, -3.17119598e-02,  3.52240700e-16,  3.17119598e-02,\n",
              "         6.32962268e-02,  9.46256222e-02,  1.25573994e-01,  1.56016723e-01,\n",
              "         1.85831228e-01,  2.14897456e-01,  2.43098368e-01,  2.70320409e-01,\n",
              "         2.96453965e-01,  3.21393805e-01,  3.45039506e-01,  3.67295854e-01,\n",
              "         3.88073232e-01,  4.07287976e-01,  4.24862715e-01,  4.40726682e-01,\n",
              "         4.54815998e-01,  4.67073930e-01,  4.77451121e-01,  4.85905784e-01,\n",
              "         4.92403877e-01,  4.96919232e-01,  4.99433670e-01,  4.99937064e-01,\n",
              "         4.98427388e-01,  4.94910721e-01,  4.89401223e-01,  4.81921079e-01,\n",
              "         4.72500409e-01,  4.61177147e-01,  4.47996887e-01,  4.33012702e-01]),\n",
              " array([ 0.25      ,  0.27696003,  0.30280484,  0.32743037,  0.35073744,\n",
              "         0.37263222,  0.39302655,  0.41183829,  0.42899171,  0.44441772,\n",
              "         0.45805423,  0.46984631,  0.47974649,  0.48771489,  0.49371944,\n",
              "         0.49773596,  0.49974827,  0.49974827,  0.49773596,  0.49371944,\n",
              "         0.48771489,  0.47974649,  0.46984631,  0.45805423,  0.44441772,\n",
              "         0.42899171,  0.41183829,  0.39302655,  0.37263222,  0.35073744,\n",
              "         0.32743037,  0.30280484,  0.27696003,  0.25      ,  0.22203331,\n",
              "         0.19317256,  0.16353398,  0.13323691,  0.10240333,  0.07115742,\n",
              "         0.03962498,  0.00793298, -0.02379096, -0.0554191 , -0.08682409,\n",
              "        -0.11787947, -0.14846019, -0.17844311, -0.20770751, -0.23613554,\n",
              "        -0.26361273, -0.29002845, -0.31527633, -0.33925471, -0.36186702,\n",
              "        -0.38302222, -0.40263513, -0.42062677, -0.43692469, -0.45146327,\n",
              "        -0.46418397, -0.47503556, -0.48397435, -0.49096435, -0.49597741,\n",
              "        -0.49899334, -0.5       , -0.49899334, -0.49597741, -0.49096435,\n",
              "        -0.48397435, -0.47503556, -0.46418397, -0.45146327, -0.43692469,\n",
              "        -0.42062677, -0.40263513, -0.38302222, -0.36186702, -0.33925471,\n",
              "        -0.31527633, -0.29002845, -0.26361273, -0.23613554, -0.20770751,\n",
              "        -0.17844311, -0.14846019, -0.11787947, -0.08682409, -0.0554191 ,\n",
              "        -0.02379096,  0.00793298,  0.03962498,  0.07115742,  0.10240333,\n",
              "         0.13323691,  0.16353398,  0.19317256,  0.22203331,  0.25      ]))"
            ]
          },
          "metadata": {},
          "execution_count": 96
        }
      ]
    },
    {
      "cell_type": "code",
      "source": [
        "plt.plot(t, p_val[0],'r')\n",
        "plt.plot(t, p_val[1],'g')\n",
        "plt.show()"
      ],
      "metadata": {
        "colab": {
          "base_uri": "https://localhost:8080/",
          "height": 430
        },
        "id": "Pid0yyHG2tsg",
        "outputId": "f10175ed-e2ae-4660-87ad-cac20f0aff7e"
      },
      "execution_count": 97,
      "outputs": [
        {
          "output_type": "display_data",
          "data": {
            "text/plain": [
              "<Figure size 640x480 with 1 Axes>"
            ],
            "image/png": "[encoded data removed]"
          },
          "metadata": {}
        }
      ]
    },
    {
      "cell_type": "code",
      "source": [
        "plt.figure(figsize=(5,5))\n",
        "plt.plot(p_val[0], p_val[1],'ko')\n",
        "plt.show()"
      ],
      "metadata": {
        "colab": {
          "base_uri": "https://localhost:8080/",
          "height": 445
        },
        "id": "Disd2z8d23hs",
        "outputId": "6edcdb78-66ff-41a7-ef05-61279aab79f1"
      },
      "execution_count": 98,
      "outputs": [
        {
          "output_type": "display_data",
          "data": {
            "text/plain": [
              "<Figure size 500x500 with 1 Axes>"
            ],
            "image/png": "[encoded data removed]"
          },
          "metadata": {}
        }
      ]
    },
    {
      "cell_type": "code",
      "source": [
        "L, t = sp.symbols('L, t')\n",
        "theta = np.pi/6 + np.pi*t\n",
        "theta"
      ],
      "metadata": {
        "colab": {
          "base_uri": "https://localhost:8080/",
          "height": 39
        },
        "id": "KIALNQya4Op6",
        "outputId": "a2550a11-e182-4771-edc5-48b4a5752758"
      },
      "execution_count": 99,
      "outputs": [
        {
          "output_type": "execute_result",
          "data": {
            "text/plain": [
              "3.14159265358979*t + 0.523598775598299"
            ],
            "text/latex": "$\\displaystyle 3.14159265358979 t + 0.523598775598299$"
          },
          "metadata": {},
          "execution_count": 99
        }
      ]
    },
    {
      "cell_type": "code",
      "source": [
        "position_sp = (L*sp.cos(theta), L*sp.sin(theta))\n",
        "position_sp"
      ],
      "metadata": {
        "colab": {
          "base_uri": "https://localhost:8080/"
        },
        "id": "8oI2fxCE4Zzw",
        "outputId": "8191199e-f75d-47ea-9dd9-63c63b39976c"
      },
      "execution_count": 100,
      "outputs": [
        {
          "output_type": "execute_result",
          "data": {
            "text/plain": [
              "(L*cos(3.14159265358979*t + 0.523598775598299),\n",
              " L*sin(3.14159265358979*t + 0.523598775598299))"
            ]
          },
          "metadata": {},
          "execution_count": 100
        }
      ]
    },
    {
      "cell_type": "code",
      "source": [
        "t_val = np.linspace(0,2,100)\n",
        "pos_val = []\n",
        "for pos in position_sp:\n",
        "    pos_val_dummy = []\n",
        "    for t_unit in t_val:\n",
        "        pos_val_dummy.append(pos.subs([(L,0.5),(t,t_unit)]))\n",
        "    pos_val.append(pos_val_dummy)"
      ],
      "metadata": {
        "id": "o0ZVnI0X4jM2"
      },
      "execution_count": 101,
      "outputs": []
    },
    {
      "cell_type": "code",
      "source": [
        "np.array(pos_val)"
      ],
      "metadata": {
        "colab": {
          "base_uri": "https://localhost:8080/"
        },
        "id": "2Z3J7zGN5Gun",
        "outputId": "9f45eda6-1149-439f-e8b5-1fcc75a9d6e1"
      },
      "execution_count": 102,
      "outputs": [
        {
          "output_type": "execute_result",
          "data": {
            "text/plain": [
              "array([[0.433012701892219, 0.416284927317386, 0.397880920265416,\n",
              "        0.377874787177129, 0.356347085689431, 0.333384500258146,\n",
              "        0.309079493110303, 0.283529931931385, 0.256838695786703,\n",
              "        0.229113260863705, 0.200465267703307, 0.171010071662834,\n",
              "        0.140866278420715, 0.110155266393270, 0.0790006979866749,\n",
              "        0.0475280216520914, 0.0158639667490338, -0.0158639667490340,\n",
              "        -0.0475280216520913, -0.0790006979866748, -0.110155266393270,\n",
              "        -0.140866278420715, -0.171010071662834, -0.200465267703307,\n",
              "        -0.229113260863705, -0.256838695786703, -0.283529931931385,\n",
              "        -0.309079493110303, -0.333384500258146, -0.356347085689431,\n",
              "        -0.377874787177129, -0.397880920265416, -0.416284927317386,\n",
              "        -0.433012701892219, -0.447996887145668, -0.461177147052291,\n",
              "        -0.472500409357334, -0.481921079279971, -0.489401223107389,\n",
              "        -0.494910720940466, -0.498427387975971, -0.499937063836938,\n",
              "        -0.499433669591504, -0.496919232230627, -0.492403876506104,\n",
              "        -0.485905784161771, -0.477451120722037, -0.467073930132553,\n",
              "        -0.454815997677259, -0.440726681723791, -0.424862714974757,\n",
              "        -0.407287976025168, -0.388073232145878, -0.367295854328767,\n",
              "        -0.345039505741056, -0.321393804843270, -0.296453964527320,\n",
              "        -0.270320408727799, -0.243098368050234, -0.214897456044586,\n",
              "        -0.185831227830164, -0.156016722849244, -0.125573993590540,\n",
              "        -0.0946256221802048, -0.0632962267868745, -0.0317119598282822,\n",
              "        3.52240699914011e-16, 0.0317119598282825, 0.0632962267868752,\n",
              "        0.0946256221802051, 0.125573993590540, 0.156016722849244,\n",
              "        0.185831227830164, 0.214897456044586, 0.243098368050235,\n",
              "        0.270320408727799, 0.296453964527320, 0.321393804843270,\n",
              "        0.345039505741056, 0.367295854328767, 0.388073232145879,\n",
              "        0.407287976025168, 0.424862714974757, 0.440726681723791,\n",
              "        0.454815997677259, 0.467073930132553, 0.477451120722037,\n",
              "        0.485905784161771, 0.492403876506104, 0.496919232230627,\n",
              "        0.499433669591504, 0.499937063836938, 0.498427387975971,\n",
              "        0.494910720940466, 0.489401223107389, 0.481921079279971,\n",
              "        0.472500409357334, 0.461177147052291, 0.447996887145668,\n",
              "        0.433012701892219],\n",
              "       [0.250000000000000, 0.276960031933055, 0.302804843568833,\n",
              "        0.327430366972642, 0.350737443853161, 0.372632224837877,\n",
              "        0.393026547371394, 0.411838290714916, 0.428991706617488,\n",
              "        0.444417724327462, 0.458054228716035, 0.469846310392954,\n",
              "        0.479746486807249, 0.487714893442704, 0.493719444338197,\n",
              "        0.497735961286542, 0.499748271191593, 0.499748271191593,\n",
              "        0.497735961286542, 0.493719444338197, 0.487714893442704,\n",
              "        0.479746486807249, 0.469846310392954, 0.458054228716035,\n",
              "        0.444417724327462, 0.428991706617488, 0.411838290714916,\n",
              "        0.393026547371394, 0.372632224837877, 0.350737443853161,\n",
              "        0.327430366972643, 0.302804843568833, 0.276960031933055,\n",
              "        0.250000000000000, 0.222033306302887, 0.193172562846564,\n",
              "        0.163533981658711, 0.133236906845018, 0.102403334032595,\n",
              "        0.0711574191366426, 0.0396249784283941, 0.00793298191740400,\n",
              "        -0.0237909579118710, -0.0554190999505055, -0.0868240888334652,\n",
              "        -0.117879467754714, -0.148460187664137, -0.178443110795936,\n",
              "        -0.207707506500943, -0.236135537386341, -0.263612733805251,\n",
              "        -0.290028454785599, -0.315276333542261, -0.339254705778566,\n",
              "        -0.361867019052535, -0.383022221559489, -0.402635128765529,\n",
              "        -0.420626766415591, -0.436924688534892, -0.451463269143311,\n",
              "        -0.464183966508036, -0.475035558870473, -0.483974350698178,\n",
              "        -0.490964348631353, -0.495977406415398, -0.498993338235942,\n",
              "        -0.500000000000000, -0.498993338235942, -0.495977406415398,\n",
              "        -0.490964348631353, -0.483974350698178, -0.475035558870473,\n",
              "        -0.464183966508036, -0.451463269143310, -0.436924688534892,\n",
              "        -0.420626766415590, -0.402635128765529, -0.383022221559489,\n",
              "        -0.361867019052535, -0.339254705778566, -0.315276333542261,\n",
              "        -0.290028454785599, -0.263612733805251, -0.236135537386341,\n",
              "        -0.207707506500943, -0.178443110795936, -0.148460187664137,\n",
              "        -0.117879467754713, -0.0868240888334648, -0.0554190999505052,\n",
              "        -0.0237909579118710, 0.00793298191740403, 0.0396249784283946,\n",
              "        0.0711574191366428, 0.102403334032596, 0.133236906845018,\n",
              "        0.163533981658711, 0.193172562846565, 0.222033306302887,\n",
              "        0.250000000000000]], dtype=object)"
            ]
          },
          "metadata": {},
          "execution_count": 102
        }
      ]
    },
    {
      "cell_type": "code",
      "source": [
        "plt.figure(figsize=(5,5))\n",
        "plt.plot(pos_val[0], pos_val[1],'ko')\n",
        "plt.show()"
      ],
      "metadata": {
        "colab": {
          "base_uri": "https://localhost:8080/",
          "height": 445
        },
        "id": "h6hqrAgA5Vdl",
        "outputId": "810789db-cce0-4933-ad60-14925a21b6cc"
      },
      "execution_count": 104,
      "outputs": [
        {
          "output_type": "display_data",
          "data": {
            "text/plain": [
              "<Figure size 500x500 with 1 Axes>"
            ],
            "image/png": "[encoded data removed]"
          },
          "metadata": {}
        }
      ]
    },
    {
      "cell_type": "code",
      "source": [
        "L, t = sp.symbols('L, t')"
      ],
      "metadata": {
        "id": "4VB7HATA7Mi_"
      },
      "execution_count": 105,
      "outputs": []
    },
    {
      "cell_type": "code",
      "source": [
        "#d(theta) / dt = pi\n",
        "omega = np.pi"
      ],
      "metadata": {
        "id": "rs0TZN8z7oAg"
      },
      "execution_count": 107,
      "outputs": []
    },
    {
      "cell_type": "code",
      "source": [
        "theta = sp.integrate(omega, t)"
      ],
      "metadata": {
        "id": "JypZXgHd7qxT"
      },
      "execution_count": 109,
      "outputs": []
    },
    {
      "cell_type": "code",
      "source": [
        "theta"
      ],
      "metadata": {
        "colab": {
          "base_uri": "https://localhost:8080/",
          "height": 39
        },
        "id": "m8NzXgDN7yQM",
        "outputId": "4df7062b-de4d-455a-a959-20f04d345dc0"
      },
      "execution_count": 111,
      "outputs": [
        {
          "output_type": "execute_result",
          "data": {
            "text/plain": [
              "3.14159265358979*t"
            ],
            "text/latex": "$\\displaystyle 3.14159265358979 t$"
          },
          "metadata": {},
          "execution_count": 111
        }
      ]
    },
    {
      "cell_type": "code",
      "source": [
        "theta_const = -theta.subs(t,0) + np.pi/6\n",
        "theta_const"
      ],
      "metadata": {
        "colab": {
          "base_uri": "https://localhost:8080/",
          "height": 37
        },
        "id": "hEoZkC6o70D7",
        "outputId": "7a22e430-8407-41a9-ad90-45aa3386179d"
      },
      "execution_count": 114,
      "outputs": [
        {
          "output_type": "execute_result",
          "data": {
            "text/plain": [
              "0.523598775598299"
            ],
            "text/latex": "$\\displaystyle 0.523598775598299$"
          },
          "metadata": {},
          "execution_count": 114
        }
      ]
    },
    {
      "cell_type": "code",
      "source": [
        "theta += theta_const\n",
        "theta"
      ],
      "metadata": {
        "colab": {
          "base_uri": "https://localhost:8080/",
          "height": 39
        },
        "id": "HNENh5GQ8FZz",
        "outputId": "62f4de37-670b-4c79-f0d5-e43ce76410c4"
      },
      "execution_count": 116,
      "outputs": [
        {
          "output_type": "execute_result",
          "data": {
            "text/plain": [
              "3.14159265358979*t + 1.0471975511966"
            ],
            "text/latex": "$\\displaystyle 3.14159265358979 t + 1.0471975511966$"
          },
          "metadata": {},
          "execution_count": 116
        }
      ]
    },
    {
      "cell_type": "code",
      "source": [
        "position_sp = (L*sp.cos(theta), L*sp.sin(theta))"
      ],
      "metadata": {
        "id": "_hjuR8su8LvW"
      },
      "execution_count": 118,
      "outputs": []
    },
    {
      "cell_type": "code",
      "source": [
        "t_val = np.linspace(0,2,100)\n",
        "\n",
        "pos_val = []\n",
        "for t_unit in t_val:\n",
        "    pos_dummy = []\n",
        "    for pos_unit in position_sp:\n",
        "        pos_dummy.append(pos_unit.subs([(L,0.5),(t, t_unit)]))\n",
        "    pos_val.append(pos_dummy)\n",
        "pos_val = np.array(pos_val)\n",
        "pos_val"
      ],
      "metadata": {
        "colab": {
          "base_uri": "https://localhost:8080/"
        },
        "id": "4Mpt9WMT8Rw3",
        "outputId": "a0e5709a-caf5-48a6-a69a-e1da0d5d49ba"
      },
      "execution_count": 120,
      "outputs": [
        {
          "output_type": "execute_result",
          "data": {
            "text/plain": [
              "array([[0.250000000000000, 0.433012701892219],\n",
              "       [0.222033306302887, 0.447996887145668],\n",
              "       [0.193172562846564, 0.461177147052291],\n",
              "       [0.163533981658711, 0.472500409357334],\n",
              "       [0.133236906845018, 0.481921079279971],\n",
              "       [0.102403334032595, 0.489401223107389],\n",
              "       [0.0711574191366427, 0.494910720940466],\n",
              "       [0.0396249784283942, 0.498427387975971],\n",
              "       [0.00793298191740397, 0.499937063836938],\n",
              "       [-0.0237909579118710, 0.499433669591504],\n",
              "       [-0.0554190999505055, 0.496919232230627],\n",
              "       [-0.0868240888334652, 0.492403876506104],\n",
              "       [-0.117879467754714, 0.485905784161771],\n",
              "       [-0.148460187664137, 0.477451120722037],\n",
              "       [-0.178443110795936, 0.467073930132553],\n",
              "       [-0.207707506500943, 0.454815997677259],\n",
              "       [-0.236135537386341, 0.440726681723791],\n",
              "       [-0.263612733805251, 0.424862714974757],\n",
              "       [-0.290028454785599, 0.407287976025168],\n",
              "       [-0.315276333542261, 0.388073232145879],\n",
              "       [-0.339254705778566, 0.367295854328767],\n",
              "       [-0.361867019052535, 0.345039505741056],\n",
              "       [-0.383022221559489, 0.321393804843270],\n",
              "       [-0.402635128765529, 0.296453964527320],\n",
              "       [-0.420626766415591, 0.270320408727799],\n",
              "       [-0.436924688534892, 0.243098368050234],\n",
              "       [-0.451463269143311, 0.214897456044586],\n",
              "       [-0.464183966508036, 0.185831227830164],\n",
              "       [-0.475035558870473, 0.156016722849243],\n",
              "       [-0.483974350698178, 0.125573993590540],\n",
              "       [-0.490964348631353, 0.0946256221802052],\n",
              "       [-0.495977406415398, 0.0632962267868747],\n",
              "       [-0.498993338235942, 0.0317119598282822],\n",
              "       [-0.500000000000000, 6.12323399573677e-17],\n",
              "       [-0.498993338235942, -0.0317119598282825],\n",
              "       [-0.495977406415398, -0.0632962267868748],\n",
              "       [-0.490964348631353, -0.0946256221802051],\n",
              "       [-0.483974350698178, -0.125573993590540],\n",
              "       [-0.475035558870473, -0.156016722849243],\n",
              "       [-0.464183966508036, -0.185831227830164],\n",
              "       [-0.451463269143311, -0.214897456044586],\n",
              "       [-0.436924688534893, -0.243098368050234],\n",
              "       [-0.420626766415591, -0.270320408727799],\n",
              "       [-0.402635128765529, -0.296453964527320],\n",
              "       [-0.383022221559489, -0.321393804843270],\n",
              "       [-0.361867019052535, -0.345039505741056],\n",
              "       [-0.339254705778566, -0.367295854328767],\n",
              "       [-0.315276333542261, -0.388073232145878],\n",
              "       [-0.290028454785599, -0.407287976025168],\n",
              "       [-0.263612733805251, -0.424862714974757],\n",
              "       [-0.236135537386341, -0.440726681723791],\n",
              "       [-0.207707506500943, -0.454815997677259],\n",
              "       [-0.178443110795936, -0.467073930132553],\n",
              "       [-0.148460187664138, -0.477451120722037],\n",
              "       [-0.117879467754713, -0.485905784161771],\n",
              "       [-0.0868240888334652, -0.492403876506104],\n",
              "       [-0.0554190999505052, -0.496919232230627],\n",
              "       [-0.0237909579118709, -0.499433669591504],\n",
              "       [0.00793298191740362, -0.499937063836938],\n",
              "       [0.0396249784283942, -0.498427387975971],\n",
              "       [0.0711574191366424, -0.494910720940466],\n",
              "       [0.102403334032596, -0.489401223107389],\n",
              "       [0.133236906845018, -0.481921079279971],\n",
              "       [0.163533981658711, -0.472500409357334],\n",
              "       [0.193172562846564, -0.461177147052291],\n",
              "       [0.222033306302887, -0.447996887145668],\n",
              "       [0.250000000000000, -0.433012701892219],\n",
              "       [0.276960031933055, -0.416284927317386],\n",
              "       [0.302804843568834, -0.397880920265416],\n",
              "       [0.327430366972642, -0.377874787177129],\n",
              "       [0.350737443853161, -0.356347085689431],\n",
              "       [0.372632224837877, -0.333384500258146],\n",
              "       [0.393026547371394, -0.309079493110303],\n",
              "       [0.411838290714916, -0.283529931931385],\n",
              "       [0.428991706617489, -0.256838695786703],\n",
              "       [0.444417724327462, -0.229113260863705],\n",
              "       [0.458054228716035, -0.200465267703307],\n",
              "       [0.469846310392954, -0.171010071662835],\n",
              "       [0.479746486807249, -0.140866278420715],\n",
              "       [0.487714893442703, -0.110155266393270],\n",
              "       [0.493719444338197, -0.0790006979866748],\n",
              "       [0.497735961286542, -0.0475280216520913],\n",
              "       [0.499748271191593, -0.0158639667490339],\n",
              "       [0.499748271191593, 0.0158639667490336],\n",
              "       [0.497735961286542, 0.0475280216520910],\n",
              "       [0.493719444338197, 0.0790006979866750],\n",
              "       [0.487714893442704, 0.110155266393270],\n",
              "       [0.479746486807249, 0.140866278420715],\n",
              "       [0.469846310392954, 0.171010071662834],\n",
              "       [0.458054228716035, 0.200465267703307],\n",
              "       [0.444417724327462, 0.229113260863705],\n",
              "       [0.428991706617489, 0.256838695786703],\n",
              "       [0.411838290714916, 0.283529931931385],\n",
              "       [0.393026547371394, 0.309079493110303],\n",
              "       [0.372632224837877, 0.333384500258146],\n",
              "       [0.350737443853161, 0.356347085689431],\n",
              "       [0.327430366972643, 0.377874787177129],\n",
              "       [0.302804843568833, 0.397880920265416],\n",
              "       [0.276960031933055, 0.416284927317386],\n",
              "       [0.250000000000000, 0.433012701892219]], dtype=object)"
            ]
          },
          "metadata": {},
          "execution_count": 120
        }
      ]
    },
    {
      "cell_type": "code",
      "source": [
        "plt.figure(figsize=(5,5))\n",
        "plt.plot(pos_val[:,0], pos_val[:,1],'ko')\n",
        "plt.show()"
      ],
      "metadata": {
        "colab": {
          "base_uri": "https://localhost:8080/",
          "height": 445
        },
        "id": "q8slOxHs830h",
        "outputId": "939e40e7-9e8c-410a-f23b-3d0fbd3c33a9"
      },
      "execution_count": 122,
      "outputs": [
        {
          "output_type": "display_data",
          "data": {
            "text/plain": [
              "<Figure size 500x500 with 1 Axes>"
            ],
            "image/png": "[encoded data removed]"
          },
          "metadata": {}
        }
      ]
    }
  ]
}